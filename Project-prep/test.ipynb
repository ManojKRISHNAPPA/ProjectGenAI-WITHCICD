{
 "cells": [
  {
   "cell_type": "markdown",
   "id": "5aa7753b",
   "metadata": {},
   "source": [
    "# Am building the Rag application\n",
    "## Data Ingestion "
   ]
  },
  {
   "cell_type": "code",
   "execution_count": 4,
   "id": "46426074",
   "metadata": {},
   "outputs": [
    {
     "name": "stdout",
     "output_type": "stream",
     "text": [
      "[Document(metadata={'source': 'devops.txt'}, page_content='Why DevOps?\\nIntroduction\\n\\nIn today’s fast-paced digital world, the demand for rapid software delivery, higher reliability, and seamless user experience is greater than ever. DevOps has emerged as a transformative approach to software development and IT operations that bridges the gap between traditionally siloed teams — development and operations. It is not just a set of tools but a culture and a practice that fosters collaboration, automation, and continuous improvement.\\n\\nThe Origins and Purpose of DevOps\\n\\nDevOps originated as a response to the inefficiencies in the software development lifecycle, where development teams would build features, and operations teams would deploy and maintain them. The disconnect often led to delays, miscommunications, and a slow feedback loop, which negatively impacted the business’s agility and innovation.\\n\\nDevOps integrates these functions by emphasizing:\\n\\nCollaboration and communication between development, operations, QA, and other stakeholders.\\n\\nAutomation of repetitive, error-prone tasks like testing, deployment, and monitoring.\\n\\nContinuous Integration and Continuous Deployment (CI/CD) to enable faster and more reliable software releases.\\n\\nInfrastructure as Code (IaC) to automate infrastructure provisioning and configuration.\\n\\nMonitoring and feedback loops for proactive issue detection and continuous improvement.\\n\\nWhy DevOps is Crucial Today\\n1. Speed and Agility\\n\\nBusinesses today must innovate rapidly to stay competitive. DevOps enables faster release cycles by automating testing and deployment, reducing manual handoffs, and facilitating rapid iteration.\\n\\n2. Reliability and Stability\\n\\nAutomation and continuous monitoring ensure that new code is thoroughly tested before deployment, reducing bugs and downtime. DevOps culture encourages ownership and accountability, leading to more reliable systems.\\n\\n3. Scalability\\n\\nWith infrastructure as code and cloud automation, DevOps teams can scale applications and infrastructure seamlessly, responding to changing demand without manual intervention.\\n\\n4. Improved Collaboration and Culture\\n\\nDevOps breaks down silos, fostering a culture of shared responsibility, open communication, and mutual respect — which leads to better problem-solving and innovation.\\n\\n5. Cost Efficiency\\n\\nBy automating repetitive tasks and reducing downtime, organizations can save resources and reduce operational costs.\\n\\nWhy AI Cannot Replace DevOps\\n\\nAI has revolutionized many fields, from image recognition to natural language processing, and even aspects of software development. However, despite its transformative potential, AI cannot replace DevOps for several fundamental reasons:\\n\\n1. DevOps is More Than Automation — It’s Culture and Collaboration\\n\\nAt its core, DevOps is a mindset and a cultural shift that emphasizes collaboration across multiple teams and disciplines. While AI can automate tasks, it cannot foster trust, culture, empathy, or communication — all critical for DevOps success.\\n\\nThe human element in conflict resolution, decision-making under uncertainty, and navigating organizational dynamics cannot be fully replicated by AI.\\n\\n2. Complex Problem Solving and Contextual Judgment\\n\\nDevOps engineers deal with complex, context-dependent challenges that require:\\n\\nUnderstanding business goals, compliance, and risk factors.\\n\\nBalancing trade-offs (e.g., between speed and stability).\\n\\nAdapting to unforeseen incidents in real-time.\\n\\nWhile AI models can assist with anomaly detection or suggest fixes, the judgment to choose the right course of action remains a human responsibility.\\n\\n3. The Limitations of AI Models\\n\\nAI systems rely on training data and algorithms that can be biased or incomplete. They can struggle with:\\n\\nHandling novel, out-of-distribution issues that have never been seen before.\\n\\nExplaining decisions transparently (critical for compliance and trust).\\n\\nUnderstanding evolving systems and software architectures.\\n\\n4. Security and Ethical Concerns\\n\\nDevOps involves ensuring security throughout the lifecycle (DevSecOps). AI systems themselves can be vulnerable to attacks, adversarial inputs, or misuse. Humans must oversee AI to ensure that security and ethical standards are upheld.\\n\\n5. Continuous Learning and Adaptation\\n\\nDevOps is an ongoing process of improvement, adaptation, and learning. While AI can automate feedback analysis, it cannot fully replace the creativity, innovation, and strategic thinking required to improve processes, innovate tooling, or change organizational practices.\\n\\nHow to Use AI to Augment DevOps Work\\n\\nInstead of replacing DevOps, AI should be viewed as a powerful tool to augment DevOps teams, improving efficiency, accuracy, and decision-making.\\n\\n1. Automating Repetitive Tasks\\n\\nAI-powered automation can handle mundane, repetitive tasks that often take up valuable engineer time:\\n\\nAutomated testing and code reviews using machine learning models.\\n\\nIntelligent monitoring that filters false alarms and highlights critical issues.\\n\\nChatOps bots that assist in deployment, rollback, or incident management via conversational interfaces.\\n\\n2. Enhancing Monitoring and Incident Management\\n\\nAI can analyze vast amounts of logs, metrics, and events to:\\n\\nDetect anomalies or potential outages early.\\n\\nCorrelate seemingly unrelated signals to identify root causes faster.\\n\\nSuggest remediation steps based on historical incident data.\\n\\nThis reduces mean time to detection (MTTD) and mean time to recovery (MTTR).\\n\\n3. Intelligent Infrastructure Management\\n\\nAI can optimize resource usage by:\\n\\nPredicting traffic spikes and scaling infrastructure proactively.\\n\\nAnalyzing historical data to suggest cost-saving measures.\\n\\nAutomating security compliance checks and vulnerability scanning.\\n\\n4. Accelerating CI/CD Pipelines\\n\\nMachine learning models can predict the impact of code changes, prioritize testing, or identify flaky tests to accelerate continuous integration pipelines without compromising quality.\\n\\n5. Knowledge Management and Documentation\\n\\nAI can help maintain updated documentation by:\\n\\nAutomatically generating docs from code or configuration.\\n\\nSummarizing incident reports and postmortems.\\n\\nAssisting in onboarding by answering team members’ queries via natural language interfaces.\\n\\n6. Collaboration and Decision Support\\n\\nAI-driven analytics dashboards can provide actionable insights, helping teams make informed decisions about release readiness, risk, and performance.\\n\\nBest Practices for Integrating AI in DevOps\\n1. Keep Humans in the Loop\\n\\nAI should assist and empower humans — not replace them. Always design systems with human oversight and final decision authority.\\n\\n2. Focus on Explainability and Trust\\n\\nChoose AI tools that offer transparent reasoning or can explain predictions so teams trust the system and understand its limitations.\\n\\n3. Start Small and Iterate\\n\\nPilot AI solutions in specific areas (e.g., log anomaly detection) before scaling across the DevOps lifecycle.\\n\\n4. Invest in Data Quality and Governance\\n\\nAI’s effectiveness depends on clean, well-labeled, and relevant data. Prioritize data hygiene, security, and compliance.\\n\\n5. Foster a Collaborative Culture\\n\\nEncourage DevOps teams to embrace AI as a partner, providing feedback and shaping how AI tools evolve.\\n\\nThe Future: AI and DevOps Together\\n\\nThe combination of DevOps and AI holds immense promise. AI can accelerate DevOps maturity, enabling teams to move faster, reduce errors, and deliver higher-quality software. DevOps, in turn, provides the processes, culture, and practices that ensure AI is implemented responsibly and effectively.\\n\\nWe’re likely to see:\\n\\nMore AI-powered DevOps platforms that offer predictive analytics, automated remediation, and intelligent workflows.\\n\\nIncreased emphasis on DevSecOps where AI helps identify and mitigate security risks continuously.\\n\\nEvolution towards AIOps — AI for IT operations — tightly integrated with DevOps practices.\\n\\nSummary\\nTopic\\tKey Takeaways\\nWhy DevOps?\\tDevOps accelerates software delivery through culture, collaboration, automation, and continuous feedback, making it essential in modern software development.\\nWhy AI can’t replace DevOps\\tAI lacks the cultural, contextual, ethical, and judgmental aspects fundamental to DevOps; it complements rather than replaces human expertise.\\nHow to use AI in DevOps\\tAI can automate repetitive tasks, enhance monitoring, optimize infrastructure, accelerate CI/CD, and aid decision-making — but always with human oversight.\\nFinal Thoughts\\n\\nDevOps is fundamentally about people, processes, and culture, supported by automation and tools. AI is a powerful enabler but cannot replace the nuanced, creative, and collaborative nature of DevOps work. By embracing AI thoughtfully, DevOps teams can unlock new levels of efficiency and innovation — shaping the future of software development and operations.')]\n"
     ]
    }
   ],
   "source": [
    "from langchain_community.document_loaders import TextLoader\n",
    "loader=TextLoader('devops.txt')\n",
    "text=loader.load()\n",
    "print(text)"
   ]
  },
  {
   "cell_type": "code",
   "execution_count": 9,
   "id": "4fff450d",
   "metadata": {},
   "outputs": [
    {
     "data": {
      "text/plain": [
       "Document(metadata={'producer': 'PyPDF', 'creator': 'PyPDF', 'creationdate': '', 'source': 'sops/Interview-questions.pdf', 'total_pages': 81, 'page': 0, 'page_label': '1'}, page_content='General DevOps \\n1. Question: What is DevOps?  \\nAnswer: DevOps is a set of practices that combines software development \\n(Dev) and IT operations (Ops) to shorten the systems development life cycle \\nand provide continuous delivery with high software quality. \\n2. Question: Explain the core principles of DevOps.  \\nAnswer: The core principles of DevOps include: \\no Automation: Automating repetitive tasks to increase efficiency and reduce \\nhuman errors. \\no Continuous Integration and Continuous Delivery (CI/CD): Ensuring code \\nchanges are automatically tested and deployed to production. \\no Collaboration and Communication: Enhancing communication between \\ndevelopment and operations teams. \\no Infrastructure as Code (IaC): Managing infrastructure using code and \\nsoftware development techniques. \\no Monitoring and Logging: Continuously monitoring applications and \\ninfrastructure to ensure high availability. \\n3. Question: How does DevOps improve the software development process?  \\nAnswer: DevOps improves the software development process by fostering \\ncollaboration between development and operations teams, automating \\nworkflows, ensuring continuous integration and delivery, and enhancing \\nmonitoring and feedback loops, which leads to faster and more reliable \\nsoftware releases. \\n4. Question: What is the difference between Agile and DevOps?  \\nAnswer: Agile is a methodology focused on iterative development, \\nemphasizing collaboration, customer feedback, and small, rapid releases. \\nDevOps extends Agile principles to include operations, aiming to automate \\nand integrate the processes between software development and IT teams to \\nenable continuous delivery. \\n5. Question: What are the benefits of using DevOps?  \\nAnswer: Benefits of using DevOps include faster time to market, improved \\ncollaboration between teams, enhanced software quality, increased \\ndeployment frequency, better scalability and availability, and reduced costs. \\n300 + Devops Scenario based questions')"
      ]
     },
     "execution_count": 9,
     "metadata": {},
     "output_type": "execute_result"
    }
   ],
   "source": [
    "from langchain_community.document_loaders import PyPDFLoader\n",
    "loader=PyPDFLoader('sops/Interview-questions.pdf')\n",
    "doc=loader.load()\n",
    "doc[0]"
   ]
  },
  {
   "cell_type": "code",
   "execution_count": 11,
   "id": "b9db4b26",
   "metadata": {},
   "outputs": [
    {
     "name": "stderr",
     "output_type": "stream",
     "text": [
      "Ignoring wrong pointing object 6 0 (offset 0)\n"
     ]
    },
    {
     "data": {
      "text/plain": [
       "Document(metadata={'producer': 'macOS Version 15.6.1 (Build 24G90) Quartz PDFContext', 'creator': 'PyPDF', 'creationdate': \"D:20251012073155Z00'00'\", 'moddate': \"D:20251012073155Z00'00'\", 'source': 'sops/K8-ERRORs.pdf', 'total_pages': 606, 'page': 0, 'page_label': '1'}, page_content='## Scenario #1: Zombie Pods Causing NodeDrain to Hang  - Category: Cluster Management  - Environment: K8s v1.23, On-prem bare metal, Systemd cgroups   Scenario  - Summary: Node drain stuck indeﬁnitely due to unresponsive terminating pod.  - What Happened:A pod with a custom ﬁnalizer never completed termination, blocking kubectl drain. Even after the pod was marked for deletion, the API server kept waiting because the ﬁnalizer wasn’t removed.  - Diagnosis Steps:    • Checked kubectl get pods --all-namespaces -o wide to ﬁnd lingering pods.   • Found pod stuck in Terminating state for over 20 minutes.   • Used kubectl describe pod <pod> to identify the presence of a custom ﬁnalizer.   • Investigated controller logs managing the ﬁnalizer – the controller had crashed.   Root Cause: Finalizer logic was never executed because its controller was down, leaving the pod undeletable.  - Fix/Workaround:  kubectl patch pod <pod-name> -p \\'{\"metadata\":{\"ﬁnalizers\":[]}}\\' --type=merge  - Lessons Learned:   Finalizers should have timeout or fail-safe logic.')"
      ]
     },
     "execution_count": 11,
     "metadata": {},
     "output_type": "execute_result"
    }
   ],
   "source": [
    "from langchain_community.document_loaders import PyPDFDirectoryLoader\n",
    "loader=PyPDFDirectoryLoader('sops')\n",
    "docs=loader.load()\n",
    "docs[0]"
   ]
  },
  {
   "cell_type": "markdown",
   "id": "8b894d79",
   "metadata": {},
   "source": [
    "# Data Transformation"
   ]
  },
  {
   "cell_type": "code",
   "execution_count": 18,
   "id": "1b7d1e1e",
   "metadata": {},
   "outputs": [
    {
     "data": {
      "text/plain": [
       "Document(metadata={'producer': 'macOS Version 15.6.1 (Build 24G90) Quartz PDFContext', 'creator': 'PyPDF', 'creationdate': \"D:20251012073155Z00'00'\", 'moddate': \"D:20251012073155Z00'00'\", 'source': 'sops/K8-ERRORs.pdf', 'total_pages': 606, 'page': 0, 'page_label': '1'}, page_content='## Scenario #1: Zombie Pods Causing NodeDrain to Hang  - Category: Cluster Management  - Environment: K8s v1.23, On-prem bare metal, Systemd cgroups   Scenario  - Summary: Node drain stuck indeﬁnitely due to unresponsive terminating pod.  - What Happened:A pod with a custom ﬁnalizer never completed termination, blocking kubectl drain. Even after the pod was marked for deletion, the API server kept waiting because the ﬁnalizer wasn’t removed.  - Diagnosis Steps:    • Checked kubectl get pods --all-namespaces -o wide to ﬁnd lingering pods.   • Found pod stuck in Terminating state for over 20 minutes.   • Used kubectl describe pod <pod> to identify the presence of a custom ﬁnalizer.   • Investigated controller logs managing the ﬁnalizer – the controller had crashed.   Root Cause: Finalizer logic was never executed because its controller was down, leaving the pod undeletable.  - Fix/Workaround:  kubectl patch pod <pod-name> -p \\'{\"metadata\":{\"ﬁnalizers\":[]}}\\' --type=merge  - Lessons')"
      ]
     },
     "execution_count": 18,
     "metadata": {},
     "output_type": "execute_result"
    }
   ],
   "source": [
    "from langchain_text_splitters import RecursiveCharacterTextSplitter\n",
    "text_splitter=RecursiveCharacterTextSplitter(chunk_size=1000,chunk_overlap=200)\n",
    "final_docs=text_splitter.split_documents(docs)\n",
    "final_docs[0]"
   ]
  },
  {
   "cell_type": "markdown",
   "id": "10e6425c",
   "metadata": {},
   "source": [
    "#### chunk_size=6,chunk overlap =3\n",
    "manoj is devops engineer and he \n",
    "is working on python"
   ]
  },
  {
   "cell_type": "markdown",
   "id": "88e490f3",
   "metadata": {},
   "source": [
    "## Embeddings and Vector store"
   ]
  },
  {
   "cell_type": "code",
   "execution_count": 23,
   "id": "c49ae0fc",
   "metadata": {},
   "outputs": [
    {
     "data": {
      "text/plain": [
       "OpenAIEmbeddings(client=<openai.resources.embeddings.Embeddings object at 0x117d0d0d0>, async_client=<openai.resources.embeddings.AsyncEmbeddings object at 0x11996e420>, model='text-embedding-3-small', dimensions=None, deployment='text-embedding-ada-002', openai_api_version=None, openai_api_base=None, openai_api_type=None, openai_proxy=None, embedding_ctx_length=8191, openai_api_key=SecretStr('**********'), openai_organization=None, allowed_special=None, disallowed_special=None, chunk_size=1000, max_retries=2, request_timeout=None, headers=None, tiktoken_enabled=True, tiktoken_model_name=None, show_progress_bar=False, model_kwargs={}, skip_empty=False, default_headers=None, default_query=None, retry_min_seconds=4, retry_max_seconds=20, http_client=None, http_async_client=None, check_embedding_ctx_length=True)"
      ]
     },
     "execution_count": 23,
     "metadata": {},
     "output_type": "execute_result"
    }
   ],
   "source": [
    "import os\n",
    "from dotenv import load_dotenv\n",
    "load_dotenv()\n",
    "\n",
    "os.environ['OPENAI_API_KEY']=os.getenv('OPENAI_API_KEY')\n",
    "\n",
    "from langchain_openai.embeddings import OpenAIEmbeddings\n",
    "embeddings=OpenAIEmbeddings(model='text-embedding-3-small')\n",
    "embeddings\n"
   ]
  },
  {
   "cell_type": "code",
   "execution_count": 27,
   "id": "7e56ed3d",
   "metadata": {},
   "outputs": [
    {
     "data": {
      "text/plain": [
       "-0.008966981433331966"
      ]
     },
     "execution_count": 27,
     "metadata": {},
     "output_type": "execute_result"
    }
   ],
   "source": [
    "query=\"this is to test\"\n",
    "result=embeddings.embed_query('query')\n",
    "result[0]"
   ]
  },
  {
   "cell_type": "code",
   "execution_count": 28,
   "id": "bfcbd7ba",
   "metadata": {},
   "outputs": [
    {
     "data": {
      "text/plain": [
       "1536"
      ]
     },
     "execution_count": 28,
     "metadata": {},
     "output_type": "execute_result"
    }
   ],
   "source": [
    "len(result)"
   ]
  },
  {
   "cell_type": "code",
   "execution_count": 30,
   "id": "fd9d027b",
   "metadata": {},
   "outputs": [
    {
     "data": {
      "text/plain": [
       "<langchain_chroma.vectorstores.Chroma at 0x11a7c1c40>"
      ]
     },
     "execution_count": 30,
     "metadata": {},
     "output_type": "execute_result"
    }
   ],
   "source": [
    "## emmeddings vector store\n",
    "\n",
    "from langchain_chroma import Chroma\n",
    "db=Chroma.from_documents(final_docs,embeddings)\n",
    "db\n"
   ]
  },
  {
   "cell_type": "markdown",
   "id": "365133eb",
   "metadata": {},
   "source": [
    "## Data Retrival"
   ]
  },
  {
   "cell_type": "code",
   "execution_count": 32,
   "id": "1fb50dc5",
   "metadata": {},
   "outputs": [
    {
     "data": {
      "text/plain": [
       "[Document(id='2a0b3d10-8f39-43f1-8713-483d3dc3b61e', metadata={'page_label': '1', 'producer': 'PyPDF', 'total_pages': 81, 'page': 0, 'creator': 'PyPDF', 'creationdate': '', 'source': 'sops/Interview-questions.pdf'}, page_content='General DevOps \\n1. Question: What is DevOps?  \\nAnswer: DevOps is a set of practices that combines software development \\n(Dev) and IT operations (Ops) to shorten the systems development life cycle \\nand provide continuous delivery with high software quality. \\n2. Question: Explain the core principles of DevOps.  \\nAnswer: The core principles of DevOps include: \\no Automation: Automating repetitive tasks to increase efficiency and reduce \\nhuman errors. \\no Continuous Integration and Continuous Delivery (CI/CD): Ensuring code \\nchanges are automatically tested and deployed to production. \\no Collaboration and Communication: Enhancing communication between \\ndevelopment and operations teams. \\no Infrastructure as Code (IaC): Managing infrastructure using code and \\nsoftware development techniques. \\no Monitoring and Logging: Continuously monitoring applications and \\ninfrastructure to ensure high availability. \\n3. Question: How does DevOps improve the software development process?'),\n",
       " Document(id='a480f7a7-f82a-40ae-9ad9-4923eefcfdf4', metadata={'producer': 'PyPDF', 'total_pages': 81, 'page_label': '1', 'page': 0, 'source': 'sops/Interview-questions.pdf', 'creator': 'PyPDF', 'creationdate': ''}, page_content='General DevOps \\n1. Question: What is DevOps?  \\nAnswer: DevOps is a set of practices that combines software development \\n(Dev) and IT operations (Ops) to shorten the systems development life cycle \\nand provide continuous delivery with high software quality. \\n2. Question: Explain the core principles of DevOps.  \\nAnswer: The core principles of DevOps include: \\no Automation: Automating repetitive tasks to increase efficiency and reduce \\nhuman errors. \\no Continuous Integration and Continuous Delivery (CI/CD): Ensuring code \\nchanges are automatically tested and deployed to production. \\no Collaboration and Communication: Enhancing communication between \\ndevelopment and operations teams. \\no Infrastructure as Code (IaC): Managing infrastructure using code and \\nsoftware development techniques. \\no Monitoring and Logging: Continuously monitoring applications and \\ninfrastructure to ensure high availability. \\n3. Question: How does DevOps improve the software development process?'),\n",
       " Document(id='134c174c-c7fa-43fb-b874-049ec7a176d9', metadata={'source': 'sops/Interview-questions.pdf', 'creator': 'PyPDF', 'page_label': '1', 'producer': 'PyPDF', 'page': 0, 'total_pages': 81, 'creationdate': ''}, page_content='o Monitoring and Logging: Continuously monitoring applications and \\ninfrastructure to ensure high availability. \\n3. Question: How does DevOps improve the software development process?  \\nAnswer: DevOps improves the software development process by fostering \\ncollaboration between development and operations teams, automating \\nworkflows, ensuring continuous integration and delivery, and enhancing \\nmonitoring and feedback loops, which leads to faster and more reliable \\nsoftware releases. \\n4. Question: What is the difference between Agile and DevOps?  \\nAnswer: Agile is a methodology focused on iterative development, \\nemphasizing collaboration, customer feedback, and small, rapid releases. \\nDevOps extends Agile principles to include operations, aiming to automate \\nand integrate the processes between software development and IT teams to \\nenable continuous delivery. \\n5. Question: What are the benefits of using DevOps?  \\nAnswer: Benefits of using DevOps include faster time to market, improved'),\n",
       " Document(id='2aedf249-f3f9-4b4f-ac54-6a5bb510bd21', metadata={'creator': 'PyPDF', 'page': 0, 'producer': 'PyPDF', 'source': 'sops/Interview-questions.pdf', 'total_pages': 81, 'creationdate': '', 'page_label': '1'}, page_content='o Monitoring and Logging: Continuously monitoring applications and \\ninfrastructure to ensure high availability. \\n3. Question: How does DevOps improve the software development process?  \\nAnswer: DevOps improves the software development process by fostering \\ncollaboration between development and operations teams, automating \\nworkflows, ensuring continuous integration and delivery, and enhancing \\nmonitoring and feedback loops, which leads to faster and more reliable \\nsoftware releases. \\n4. Question: What is the difference between Agile and DevOps?  \\nAnswer: Agile is a methodology focused on iterative development, \\nemphasizing collaboration, customer feedback, and small, rapid releases. \\nDevOps extends Agile principles to include operations, aiming to automate \\nand integrate the processes between software development and IT teams to \\nenable continuous delivery. \\n5. Question: What are the benefits of using DevOps?  \\nAnswer: Benefits of using DevOps include faster time to market, improved')]"
      ]
     },
     "execution_count": 32,
     "metadata": {},
     "output_type": "execute_result"
    }
   ],
   "source": [
    "query=\"What is DevOps?\"\n",
    "result=db.similarity_search(query)\n",
    "result"
   ]
  },
  {
   "cell_type": "markdown",
   "id": "cb5974a1",
   "metadata": {},
   "source": [
    "## LLM communication\n"
   ]
  },
  {
   "cell_type": "code",
   "execution_count": 35,
   "id": "cf4cc3bf",
   "metadata": {},
   "outputs": [],
   "source": [
    "import os\n",
    "from dotenv import load_dotenv\n",
    "load_dotenv()\n",
    "\n",
    "os.environ['OPENAI_API_KEY']=os.getenv('OPENAI_API_KEY')\n",
    "os.environ['LANGCHAIN_API_KEY']=os.getenv('LANGCHAIN_API_KEY')\n",
    "os.environ['LANGCHAIN_PROJECT']=os.getenv('LANGCHAIN_PROJECT')\n",
    "os.environ['LANGSMITH_TRACING']=\"true\""
   ]
  },
  {
   "cell_type": "code",
   "execution_count": 36,
   "id": "1d6600f0",
   "metadata": {},
   "outputs": [
    {
     "data": {
      "text/plain": [
       "ChatOpenAI(client=<openai.resources.chat.completions.completions.Completions object at 0x11a9b3a70>, async_client=<openai.resources.chat.completions.completions.AsyncCompletions object at 0x11a7f43e0>, root_client=<openai.OpenAI object at 0x11aa92ea0>, root_async_client=<openai.AsyncOpenAI object at 0x11aa07410>, model_name='gpt-5', model_kwargs={}, openai_api_key=SecretStr('**********'))"
      ]
     },
     "execution_count": 36,
     "metadata": {},
     "output_type": "execute_result"
    }
   ],
   "source": [
    "from langchain_openai import ChatOpenAI\n",
    "llm=ChatOpenAI(model=\"gpt-5\")\n",
    "llm"
   ]
  },
  {
   "cell_type": "code",
   "execution_count": 38,
   "id": "63dea60a",
   "metadata": {},
   "outputs": [
    {
     "data": {
      "text/plain": [
       "AIMessage(content='Hi! I’m doing well, thanks for asking. How can I help you today?', additional_kwargs={'refusal': None}, response_metadata={'token_usage': {'completion_tokens': 155, 'prompt_tokens': 14, 'total_tokens': 169, 'completion_tokens_details': {'accepted_prediction_tokens': 0, 'audio_tokens': 0, 'reasoning_tokens': 128, 'rejected_prediction_tokens': 0}, 'prompt_tokens_details': {'audio_tokens': 0, 'cached_tokens': 0}}, 'model_name': 'gpt-5-2025-08-07', 'system_fingerprint': None, 'id': 'chatcmpl-CSSEe8Ekir67069LT82mqZ8pArw1m', 'service_tier': 'default', 'finish_reason': 'stop', 'logprobs': None}, id='run--a6d0cd5f-87d5-418e-b6a0-715f69644177-0', usage_metadata={'input_tokens': 14, 'output_tokens': 155, 'total_tokens': 169, 'input_token_details': {'audio': 0, 'cache_read': 0}, 'output_token_details': {'audio': 0, 'reasoning': 128}})"
      ]
     },
     "execution_count": 38,
     "metadata": {},
     "output_type": "execute_result"
    }
   ],
   "source": [
    "query=\"Hello gpt-5 how are you\"\n",
    "result=llm.invoke(query)\n",
    "result"
   ]
  },
  {
   "cell_type": "code",
   "execution_count": 39,
   "id": "7ad0fdb7",
   "metadata": {},
   "outputs": [
    {
     "data": {
      "text/plain": [
       "langchain_core.messages.ai.AIMessage"
      ]
     },
     "execution_count": 39,
     "metadata": {},
     "output_type": "execute_result"
    }
   ],
   "source": [
    "type(result)"
   ]
  },
  {
   "cell_type": "code",
   "execution_count": null,
   "id": "69f9dc5c",
   "metadata": {},
   "outputs": [
    {
     "data": {
      "text/plain": [
       "ChatPromptTemplate(input_variables=['input'], input_types={}, partial_variables={}, messages=[SystemMessagePromptTemplate(prompt=PromptTemplate(input_variables=[], input_types={}, partial_variables={}, template='Hey you are an AI expert answer my question'), additional_kwargs={}), HumanMessagePromptTemplate(prompt=PromptTemplate(input_variables=['input'], input_types={}, partial_variables={}, template='{input}'), additional_kwargs={})])"
      ]
     },
     "execution_count": 41,
     "metadata": {},
     "output_type": "execute_result"
    }
   ],
   "source": [
    "from langchain_core.prompts import ChatPromptTemplate\n",
    "prompts=ChatPromptTemplate.from_messages(\n",
    "    [\n",
    "        ('system','Hey you are an AI expert answer my question'),\n",
    "        ('user','{input}')\n",
    "    ]\n",
    ")\n",
    "\n",
    "prompts\n",
    "\n"
   ]
  },
  {
   "cell_type": "code",
   "execution_count": 42,
   "id": "31062a6a",
   "metadata": {},
   "outputs": [
    {
     "data": {
      "text/plain": [
       "AIMessage(content='GenAI (Generative AI) is a class of artificial intelligence systems that can create new content—text, images, code, audio, video, and more—based on patterns learned from large datasets.\\n\\nHow it works (high level):\\n- Trains large neural networks on vast data using self‑supervised learning.\\n- Text models (LLMs) predict the next token in a sequence; image/audio/video models often use diffusion or autoregressive decoding to generate from noise or prompts.\\n- Instruction tuning and RLHF make models follow user prompts; retrieval (RAG) can ground answers in external sources.\\n\\nWhat it can do:\\n- Text: drafting, summarization, translation, Q&A, chat, analytics, code generation.\\n- Media: create/edit images, audio, and video; design prototypes; generate marketing assets.\\n- Data tasks: extract structure from documents, generate synthetic data, classify or tag content.\\n\\nCommon examples:\\n- Text: GPT-4/4o, Claude, Llama.\\n- Images: DALL·E, Midjourney, Stable Diffusion.\\n- Video/Audio: Runway, Sora, music/speech generators.\\n- Coding assistants: GitHub Copilot and similar tools.\\n\\nStrengths:\\n- Fast content creation at scale, creative assistance, automation of routine knowledge work.\\n\\nLimitations and risks:\\n- Hallucinations (confident but wrong answers), bias/toxicity, non-determinism.\\n- Privacy and IP concerns depending on data and use.\\n- Security issues like prompt injection and data leakage.\\n- Needs evaluation, guardrails, and often a human in the loop.\\n\\nWhat it’s not:\\n- Not AGI (general intelligence) and not guaranteed to be correct.\\n- Not a source of truth or a database unless connected to one.\\n\\nIf you want, I can tailor examples to your industry or show how to build a simple GenAI workflow (e.g., RAG chatbot or image generator).', additional_kwargs={'refusal': None}, response_metadata={'token_usage': {'completion_tokens': 1297, 'prompt_tokens': 23, 'total_tokens': 1320, 'completion_tokens_details': {'accepted_prediction_tokens': 0, 'audio_tokens': 0, 'reasoning_tokens': 896, 'rejected_prediction_tokens': 0}, 'prompt_tokens_details': {'audio_tokens': 0, 'cached_tokens': 0}}, 'model_name': 'gpt-5-2025-08-07', 'system_fingerprint': None, 'id': 'chatcmpl-CSSK8LU1Nr0mzsCG39kijZ9aF9pUt', 'service_tier': 'default', 'finish_reason': 'stop', 'logprobs': None}, id='run--421fdcef-aae1-4079-bb58-398f20b0605d-0', usage_metadata={'input_tokens': 23, 'output_tokens': 1297, 'total_tokens': 1320, 'input_token_details': {'audio': 0, 'cache_read': 0}, 'output_token_details': {'audio': 0, 'reasoning': 896}})"
      ]
     },
     "execution_count": 42,
     "metadata": {},
     "output_type": "execute_result"
    }
   ],
   "source": [
    "query=\"what is GenAI\"\n",
    "chain=prompts|llm\n",
    "result=chain.invoke(query)\n",
    "result\n",
    "\n"
   ]
  },
  {
   "cell_type": "code",
   "execution_count": null,
   "id": "0cd7a4a9",
   "metadata": {},
   "outputs": [],
   "source": []
  },
  {
   "cell_type": "code",
   "execution_count": 43,
   "id": "9be625d0",
   "metadata": {},
   "outputs": [
    {
     "data": {
      "text/plain": [
       "'GenAI (generative AI) is a type of artificial intelligence that creates new content—text, images, audio, video, or code—by learning patterns from large datasets and then generating outputs that resemble what it has learned.\\n\\nKey points:\\n- How it works: Models learn to predict the next token (text/code) or to turn noise into images/video (diffusion). Common architectures include transformers (LLMs) and diffusion models. They can be adapted with fine-tuning or retrieval-augmented generation (RAG).\\n- Examples: ChatGPT/Claude/Gemini/Llama (text), DALL·E/Stable Diffusion/Midjourney (images), Sora (video), GitHub Copilot (code), various speech and music models.\\n- What it’s used for: Drafting and summarizing text, answering questions, coding assistance, design and marketing content, data exploration, customer support, and rapid prototyping.\\n- Benefits: Speed, scale, versatility, and natural language interfaces.\\n- Limitations/risks: Hallucinations (incorrect outputs), bias, privacy/IP concerns, security issues (prompt injection), limited freshness of knowledge, and variability in reliability.\\n\\nIf you want, I can tailor the explanation for beginners or give a more technical deep dive.'"
      ]
     },
     "execution_count": 43,
     "metadata": {},
     "output_type": "execute_result"
    }
   ],
   "source": [
    "from langchain_core.output_parsers import StrOutputParser\n",
    "output_parser=StrOutputParser()\n",
    "\n",
    "chain=prompts|llm|output_parser\n",
    "query=\"what is GenAI\"\n",
    "result=chain.invoke(query)\n",
    "result\n"
   ]
  },
  {
   "cell_type": "code",
   "execution_count": null,
   "id": "2a32d4bb",
   "metadata": {},
   "outputs": [],
   "source": []
  }
 ],
 "metadata": {
  "kernelspec": {
   "display_name": "myenv-3.12.0",
   "language": "python",
   "name": "python3"
  },
  "language_info": {
   "codemirror_mode": {
    "name": "ipython",
    "version": 3
   },
   "file_extension": ".py",
   "mimetype": "text/x-python",
   "name": "python",
   "nbconvert_exporter": "python",
   "pygments_lexer": "ipython3",
   "version": "3.12.0"
  }
 },
 "nbformat": 4,
 "nbformat_minor": 5
}
